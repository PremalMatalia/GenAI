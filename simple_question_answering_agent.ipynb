{
 "cells": [
  {
   "cell_type": "markdown",
   "id": "ccf90ded-d274-4a58-9d23-512662ee9d03",
   "metadata": {},
   "source": [
    "<h3> 1. Setup and Initialization </h3>\n",
    "<h5>\n",
    "    - Import necessary libraries (LangChain, dotenv) <br>\n",
    "    - Load environment variables for API key management <br>\n",
    "    - Initialize the OpenAI language model\n",
    "</h5>    "
   ]
  },
  {
   "cell_type": "code",
   "execution_count": 2,
   "id": "ce7634e5-beaa-47f9-8274-177a799ca2a9",
   "metadata": {},
   "outputs": [],
   "source": [
    "# Import required libraries\n",
    "import os\n",
    "from dotenv import load_dotenv\n",
    "from langchain_openai import ChatOpenAI\n",
    "from langchain_core.prompts import PromptTemplate\n",
    "\n",
    "# Load environment variables from .env file\n",
    "load_dotenv()\n",
    "# Set OpenAI API key from environment variables\n",
    "os.environ[\"OPENAI_API_KEY\"] = os.getenv('OPENAI_API_KEY')"
   ]
  },
  {
   "cell_type": "code",
   "execution_count": 3,
   "id": "786a0606-b9e5-4385-baa9-f38c2957ff02",
   "metadata": {},
   "outputs": [],
   "source": [
    "# Initialize a ChatOpenAI instance using the gpt-4o-mini model\n",
    "# Set maximum response length to 1000 tokens and temperature to 0\n",
    "# (temperature=0 makes responses deterministic/consistent)\n",
    "llm = ChatOpenAI(model=\"gpt-4o-mini\", max_tokens=1000, temperature=0.0)"
   ]
  },
  {
   "cell_type": "markdown",
   "id": "eef535d4-65f9-46b9-a98c-7274bd842f7a",
   "metadata": {},
   "source": [
    "<h3> 2. Defining the Prompt Template </h3>\n",
    "<h5>\n",
    "- Create a template that instructs the AI on its role and response format <br>\n",
    "- Use the PromptTemplate class to structure the input\n",
    "</h5>"
   ]
  },
  {
   "cell_type": "code",
   "execution_count": 5,
   "id": "59538206-c9e0-4452-9512-d750eb1f1437",
   "metadata": {},
   "outputs": [],
   "source": [
    "ptemplate = \"\"\"\n",
    "You are a helpful AI assistant. Your task is to answer the user's question to the best of your ability.\n",
    "\n",
    "User's question: {question}\n",
    "\n",
    "Please provide a clear and concise answer:\n",
    "\"\"\"\n",
    "\n",
    "# Create a PromptTemplate object that will format our template string\n",
    "# - template: The template string with placeholders defined above\n",
    "# - input_variables: List of variables that will be replaced in the template\n",
    "#   (in this case, just the \"question\" placeholder)\n",
    "prompt = PromptTemplate(template=ptemplate, input_variables=[\"question\"])"
   ]
  },
  {
   "cell_type": "markdown",
   "id": "751f6455-e10f-424a-8f8e-99a62346d936",
   "metadata": {},
   "source": [
    "<h3> 3. Creating the LLMChain </h3>\n",
    "<h5>\n",
    "- Combine the language model and prompt template into an LLMChain </br>\n",
    "- This chain manages the flow from user input to AI response\n",
    "</h5>"
   ]
  },
  {
   "cell_type": "code",
   "execution_count": 7,
   "id": "dccdc85c-c6b5-4f69-9fc4-596184270ad3",
   "metadata": {},
   "outputs": [],
   "source": [
    "# Create a processing chain by piping the prompt into the language model\n",
    "# This uses the | operator to connect components in a sequential processing pipeline\n",
    "chain = prompt | llm"
   ]
  },
  {
   "cell_type": "markdown",
   "id": "cf9ce0dd-f741-4804-8ffd-1142804b4e61",
   "metadata": {},
   "source": [
    "<h3> 4. Implementing the Question-Answering Function </h3>\n",
    "<h5>\n",
    "- Define a function that takes a user question as input <br>\n",
    "- Use the LLMChain to process the question and generate an answer\n",
    "</h5>"
   ]
  },
  {
   "cell_type": "code",
   "execution_count": 9,
   "id": "7802dd5a-3ee7-4f74-835a-23f3c4443062",
   "metadata": {},
   "outputs": [],
   "source": [
    "def get_answer(question):\n",
    "    \"\"\"\n",
    "    Get an answer to the given question using the QA chain.\n",
    "    \"\"\"\n",
    "    try:\n",
    "        input_variables = {\"question\": question}\n",
    "        return chain.invoke(input_variables).content\n",
    "    except Exception as e:\n",
    "        print(f\"Error occurred: {e}\")\n",
    "        print(\"Please check your OpenAI API quota at: https://platform.openai.com/account/usage\")"
   ]
  },
  {
   "cell_type": "markdown",
   "id": "61115e57-de2f-4b7d-8c9f-1024b31f2f99",
   "metadata": {},
   "source": [
    "<h3> 5. User Interaction </h3>\n",
    "<h5>\n",
    "- Example usage with a predefined question <br>\n",
    "- Interactive input for user questions\n",
    "</h5>"
   ]
  },
  {
   "cell_type": "code",
   "execution_count": 11,
   "id": "e03c07d4-b3ad-4a28-a39c-fd756862df91",
   "metadata": {},
   "outputs": [
    {
     "name": "stdout",
     "output_type": "stream",
     "text": [
      "Error occurred: Error code: 429 - {'error': {'message': 'You exceeded your current quota, please check your plan and billing details. For more information on this error, read the docs: https://platform.openai.com/docs/guides/error-codes/api-errors.', 'type': 'insufficient_quota', 'param': None, 'code': 'insufficient_quota'}}\n",
      "Please check your OpenAI API quota at: https://platform.openai.com/account/usage\n",
      "Question: What is the capital of India?\n",
      "Answer: None\n"
     ]
    }
   ],
   "source": [
    "question = \"What is the capital of India?\"\n",
    "answer = get_answer(question)\n",
    "print(f\"Question: {question}\")\n",
    "print(f\"Answer: {answer}\")"
   ]
  },
  {
   "cell_type": "code",
   "execution_count": 12,
   "id": "71f35b38-79e5-41ef-8134-4063005f95a9",
   "metadata": {},
   "outputs": [
    {
     "name": "stdin",
     "output_type": "stream",
     "text": [
      "Enter your question:  How to integrate OpenAI model in a code?\n"
     ]
    },
    {
     "name": "stdout",
     "output_type": "stream",
     "text": [
      "Error occurred: Error code: 429 - {'error': {'message': 'You exceeded your current quota, please check your plan and billing details. For more information on this error, read the docs: https://platform.openai.com/docs/guides/error-codes/api-errors.', 'type': 'insufficient_quota', 'param': None, 'code': 'insufficient_quota'}}\n",
      "Please check your OpenAI API quota at: https://platform.openai.com/account/usage\n",
      "Answer: None\n"
     ]
    }
   ],
   "source": [
    "user_question = input(\"Enter your question: \")\n",
    "user_answer = get_answer(user_question)\n",
    "print(f\"Answer: {user_answer}\")"
   ]
  }
 ],
 "metadata": {
  "kernelspec": {
   "display_name": "Python [conda env:base] *",
   "language": "python",
   "name": "conda-base-py"
  },
  "language_info": {
   "codemirror_mode": {
    "name": "ipython",
    "version": 3
   },
   "file_extension": ".py",
   "mimetype": "text/x-python",
   "name": "python",
   "nbconvert_exporter": "python",
   "pygments_lexer": "ipython3",
   "version": "3.12.7"
  }
 },
 "nbformat": 4,
 "nbformat_minor": 5
}
