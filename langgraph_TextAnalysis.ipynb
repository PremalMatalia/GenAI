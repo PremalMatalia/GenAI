{
 "cells": [
  {
   "cell_type": "code",
   "execution_count": 1,
   "id": "e35502ba-b3c9-44ff-bcef-2cdbfae9356f",
   "metadata": {},
   "outputs": [],
   "source": [
    "#!pip install langgraph"
   ]
  },
  {
   "cell_type": "code",
   "execution_count": 2,
   "id": "fe7d20cd-3857-43af-8c83-968b3908d491",
   "metadata": {},
   "outputs": [],
   "source": [
    "# Standard library imports\n",
    "import os\n",
    "from typing import TypedDict, List\n",
    "\n",
    "# Third-party imports\n",
    "from dotenv import load_dotenv\n",
    "\n",
    "# LangGraph imports for workflow graph creation\n",
    "from langgraph.graph import StateGraph, END\n",
    "\n",
    "# LangChain imports for LLM integration\n",
    "from langchain.prompts import PromptTemplate\n",
    "from langchain.schema import HumanMessage\n",
    "from langchain_core.runnables.graph import MermaidDrawMethod\n",
    "from langchain_openai import ChatOpenAI\n",
    "\n",
    "# Jupyter display utilities\n",
    "from IPython.display import display, Image"
   ]
  },
  {
   "cell_type": "code",
   "execution_count": 3,
   "id": "396c9f3c-3506-4a35-a065-32ff9520c401",
   "metadata": {},
   "outputs": [],
   "source": [
    "load_dotenv()\n",
    "os.environ[\"OPENAI_API_KEY\"] = os.getenv(\"OPENAI_API_KEY\");"
   ]
  },
  {
   "cell_type": "markdown",
   "id": "e169b7d9-2155-467e-bbc6-75330c8adefa",
   "metadata": {},
   "source": [
    "<h2>Building the Text Processing Pipeline</h2>\n",
    "\n",
    "<h5>Define State and Initialize LLM</h5>"
   ]
  },
  {
   "cell_type": "code",
   "execution_count": 5,
   "id": "831db798-2275-4dcc-9e3f-9b29893e3e3c",
   "metadata": {},
   "outputs": [],
   "source": [
    "# Define a TypedDict class to represent the state of processed text\n",
    "# TypedDict is a special dictionary type from typing module that allows specifying\n",
    "# the types of allowed keys and their corresponding value types\n",
    "class State(TypedDict):\n",
    "    text: str                # The original text input\n",
    "    classification: str      # The classification category of the text\n",
    "    entities: List[str]      # List of entities extracted from the text\n",
    "    summary: str             # A summary of the text content\n",
    "\n",
    "# Initialize the language model using OpenAI's GPT-4o-mini\n",
    "# Setting temperature to 0.0 for deterministic/consistent outputs\n",
    "llm = ChatOpenAI(model=\"gpt-4o-mini\", temperature=0.0)"
   ]
  },
  {
   "cell_type": "markdown",
   "id": "b327a85d-3b34-42b3-b8b9-c5e889f98e9b",
   "metadata": {},
   "source": [
    "<h5>Define Node Functions</h5>\n",
    "<h6>These functions define the operations performed at each node of our graph: classification, entity extraction, and summarization.</h6>"
   ]
  },
  {
   "cell_type": "code",
   "execution_count": 7,
   "id": "a1e00d26-6a57-494c-a4dd-8c2181b416e7",
   "metadata": {},
   "outputs": [],
   "source": [
    "def classification_node(state: State):\n",
    "    ''' Classify the text into one of the categories: News, Blog, Research, or Other '''\n",
    "    # Create a prompt template with a placeholder for the text to be classified\n",
    "    prompt = PromptTemplate(\n",
    "        input_variables=[\"text\"],  # Define the variable that will be replaced in the template\n",
    "        template=\"Classify the following text into one of the categories: News, Blog, Research, or Other.\\n\\nText:{text}\\n\\nCategory:\"\n",
    "    )\n",
    "    \n",
    "    # Format the prompt with the text from the state and create a human message\n",
    "    message = HumanMessage(content=prompt.format(text=state[\"text\"]))\n",
    "    #print(f\"message: {message}\")\n",
    "    \n",
    "    # Send the message to the language model and get the classification result\n",
    "    classification = llm.invoke([message]).content.strip()\n",
    "    \n",
    "    # Return the classification result as a dictionary\n",
    "    return {\"classification\": classification}"
   ]
  },
  {
   "cell_type": "code",
   "execution_count": 8,
   "id": "522a2ea8-48a2-4da7-a0cb-d8ad53779967",
   "metadata": {},
   "outputs": [],
   "source": [
    "def entity_extraction_node(state: State):\n",
    "    ''' Extract all the entities (Person, Organization, Location) from the text '''\n",
    "    # Create a prompt template with a placeholder for the text input\n",
    "    # This template asks the LLM to extract entities and return them as a comma-separated list\n",
    "    prompt = PromptTemplate(\n",
    "        input_variables=[\"text\"],\n",
    "        template=\"Extract all the entities (Person, Organization, Location) from the following text. Provide the result as a comma-separated list.\\n\\nText:{text}\\n\\nEntities:\"\n",
    "    )\n",
    "\n",
    "    # Create a human message using the formatted prompt with the text from the state\n",
    "    message = HumanMessage(content=prompt.format(text=state[\"text\"]))\n",
    "    \n",
    "    # Send the message to the language model and get the response\n",
    "    # Split the response by commas to create a list of entities\n",
    "    entities = llm.invoke([message]).content.strip().split(\", \")\n",
    "    \n",
    "    # Return the extracted entities as a dictionary\n",
    "    return {\"entities\": entities}"
   ]
  },
  {
   "cell_type": "code",
   "execution_count": 9,
   "id": "6e364a72-ce6a-41fe-a547-d156e0940e7a",
   "metadata": {},
   "outputs": [],
   "source": [
    "def summarization_node(state: State):\n",
    "    ''' Summarize the text in one short sentence '''\n",
    "    # Create a prompt template with a placeholder for the text to be summarized\n",
    "    prompt = PromptTemplate(\n",
    "        input_variables=[\"text\"],\n",
    "        template=\"Summarize the following text in one short sentence.\\n\\nText:{text}\\n\\nSummary:\"\n",
    "    )\n",
    "    # Format the prompt with the text from the state and create a human message\n",
    "    message = HumanMessage(content=prompt.format(text=state[\"text\"]))\n",
    "    # Invoke the language model with the message and extract the generated summary\n",
    "    summary = llm.invoke([message]).content.strip()\n",
    "    # Return the summary as a dictionary to be used in the workflow\n",
    "    return {\"summary\": summary}"
   ]
  },
  {
   "cell_type": "markdown",
   "id": "75bb4e19-b2cb-454c-a3c1-6ecb5cf759b0",
   "metadata": {},
   "source": [
    "<h5>Create Tools and Build Workflow</h5>"
   ]
  },
  {
   "cell_type": "code",
   "execution_count": 11,
   "id": "9123ed24-fcf8-463c-a713-10b543841e3d",
   "metadata": {},
   "outputs": [],
   "source": [
    "# Initialize a StateGraph with State as the base state type\n",
    "workflow = StateGraph(State)\n",
    "\n",
    "# Add processing nodes to the workflow\n",
    "workflow.add_node(\"classification_node\", classification_node)  # Node for text classification\n",
    "workflow.add_node(\"entity_extraction\", entity_extraction_node)  # Node for extracting entities\n",
    "workflow.add_node(\"summarization\", summarization_node)  # Node for text summarization\n",
    "\n",
    "# Set the starting point of the workflow\n",
    "workflow.set_entry_point(\"classification_node\")\n",
    "\n",
    "# Define the flow between nodes\n",
    "workflow.add_edge(\"classification_node\", \"entity_extraction\")  # After classification, perform entity extraction\n",
    "workflow.add_edge(\"entity_extraction\", \"summarization\")  # After entity extraction, perform summarization\n",
    "workflow.add_edge(\"summarization\", END)  # End the workflow after summarization\n",
    "\n",
    "# Compile the workflow into an executable application\n",
    "app = workflow.compile()"
   ]
  },
  {
   "cell_type": "markdown",
   "id": "9a85b154-7758-4ab8-993b-8d42d14a30dd",
   "metadata": {},
   "source": [
    "<h5>Visualizing the Workflow</h5>"
   ]
  },
  {
   "cell_type": "code",
   "execution_count": 13,
   "id": "ef95f359-5aee-4abb-93ff-a379b15064e5",
   "metadata": {},
   "outputs": [
    {
     "data": {
      "image/png": "[encoded data removed]",
      "text/plain": [
       "<IPython.core.display.Image object>"
      ]
     },
     "metadata": {},
     "output_type": "display_data"
    }
   ],
   "source": [
    "display(\n",
    "    Image(\n",
    "        app.get_graph().draw_mermaid_png(draw_method=MermaidDrawMethod.API,)\n",
    "    )\n",
    ")"
   ]
  },
  {
   "cell_type": "markdown",
   "id": "8a51f1c4-b8d3-485b-9bff-2a8f77ce6c43",
   "metadata": {},
   "source": [
    "<h5>Test the pipeline</h5>"
   ]
  },
  {
   "cell_type": "code",
   "execution_count": 15,
   "id": "84a70ddf-d730-42c7-96de-36027d7bb018",
   "metadata": {},
   "outputs": [
    {
     "name": "stdout",
     "output_type": "stream",
     "text": [
      "Rate limit hit. Retrying in 1 seconds...\n",
      "Rate limit hit. Retrying in 2 seconds...\n",
      "Rate limit hit. Retrying in 4 seconds...\n",
      "Rate limit hit. Retrying in 8 seconds...\n",
      "Max retries reached. Please check your API quota.\n"
     ]
    }
   ],
   "source": [
    "import time\n",
    "\n",
    "sample_text = \"\"\"\n",
    "OpenAI has announced the GPT-4 model, which is a large multimodal model that exhibits human-level performance on various professional benchmarks. It is developed to improve the alignment and safety of AI systems.\n",
    "additionally, the model is designed to be more efficient and scalable than its predecessor, GPT-3. The GPT-4 model is expected to be released in the coming months and will be available to the public for research and development purposes.\n",
    "\"\"\"\n",
    "\n",
    "# Add retry logic with exponential backoff\n",
    "max_retries = 5\n",
    "retry_delay = 1  # Start with 1 second delay\n",
    "\n",
    "for attempt in range(max_retries):\n",
    "    try:\n",
    "        state_input = {\"text\": sample_text}\n",
    "        result = app.invoke(state_input)\n",
    "        \n",
    "        print(\"Classification:\", result[\"classification\"])\n",
    "        print(\"\\nEntities:\", result[\"entities\"])\n",
    "        print(\"\\nSummary:\", result[\"summary\"])\n",
    "        break  # Success, exit the retry loop\n",
    "        \n",
    "    except Exception as e:\n",
    "        if \"insufficient_quota\" in str(e) or \"rate_limit\" in str(e):\n",
    "            if attempt < max_retries - 1:  # Don't sleep on the last attempt\n",
    "                print(f\"Rate limit hit. Retrying in {retry_delay} seconds...\")\n",
    "                time.sleep(retry_delay)\n",
    "                retry_delay *= 2  # Exponential backoff\n",
    "            else:\n",
    "                print(\"Max retries reached. Please check your API quota.\")\n",
    "        else:\n",
    "            # For other errors, just raise them\n",
    "            raise"
   ]
  }
 ],
 "metadata": {
  "kernelspec": {
   "display_name": "Python [conda env:base] *",
   "language": "python",
   "name": "conda-base-py"
  },
  "language_info": {
   "codemirror_mode": {
    "name": "ipython",
    "version": 3
   },
   "file_extension": ".py",
   "mimetype": "text/x-python",
   "name": "python",
   "nbconvert_exporter": "python",
   "pygments_lexer": "ipython3",
   "version": "3.12.7"
  }
 },
 "nbformat": 4,
 "nbformat_minor": 5
}
